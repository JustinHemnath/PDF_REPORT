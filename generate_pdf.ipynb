{
 "cells": [
  {
   "cell_type": "code",
   "execution_count": 1,
   "metadata": {},
   "outputs": [],
   "source": [
    "from utils.ca_model import model_data\n",
    "import json\n",
    "\n",
    "with open(\"ward_alangulam.json\", \"r\", encoding=\"utf-8\") as f:\n",
    "    response_data = json.load(f)\n",
    "\n",
    "with open(\"utils/translation.json\", \"r\", encoding=\"utf-8\") as f:\n",
    "    translation_data = json.load(f)\n",
    "    "
   ]
  },
  {
   "cell_type": "code",
   "execution_count": 2,
   "metadata": {},
   "outputs": [
    {
     "name": "stdout",
     "output_type": "stream",
     "text": [
      "Function 'model_data' executed in 73.3612 seconds\n"
     ]
    }
   ],
   "source": [
    "\n",
    "payload = {\n",
    "    \"lang\": \"ta\",\n",
    "    \"trend\": True,\n",
    "    \"party\": [],\n",
    "    \"ac_no\": 223,\n",
    "    \"pc_no\": 38,\n",
    "    \"year\": [\n",
    "        \"2024\",\n",
    "        \"2021\"\n",
    "    ],\n",
    "    \"local_body\": [\n",
    "        \"ஆலங்குளம் தெற்கு\",\n",
    "        \"ஆலங்குளம் பேரூர்\",\n",
    "        \"ஆழ்வார் குறிச்சி பேரூர்\",\n",
    "        \"கடையம் தெற்கு\",\n",
    "        \"கடையம் வடக்கு\",\n",
    "        \"கீழப்பாவூர் கிழக்கு\",\n",
    "        \"கீழப்பாவூர் பேரூர்\",\n",
    "        \"பாப்பாக்குடி\",\n",
    "        \"முக்கூடல் பேரூர்\"\n",
    "    ],\n",
    "    \"compare_type\": \"ward_vp\",\n",
    "    \"flag\": None,\n",
    "}\n",
    "\n",
    "flags_list = [0, 3, 4]\n",
    "\n",
    "with open(\"ac_lb_mapping.json\", \"r\", encoding=\"utf-8\") as f:\n",
    "    ac_lb_map = json.load(f)\n",
    "\n",
    "lb_val_dict = {}\n",
    "for key, value in ac_lb_map.items():\n",
    "    lb_val_dict[key] = list(value.keys())\n",
    "\n",
    "res = model_data(\n",
    "    flags_list, response_data, payload, translation_data[\"ta\"], total_lb_list=lb_val_dict[str(223)]\n",
    ")\n",
    "\n"
   ]
  },
  {
   "cell_type": "code",
   "execution_count": 4,
   "metadata": {},
   "outputs": [],
   "source": [
    "with open(\"modelled_data.json\", \"w\", encoding=\"utf-8\") as f:\n",
    "    f.write(json.dumps(res, ensure_ascii=False))"
   ]
  }
 ],
 "metadata": {
  "kernelspec": {
   "display_name": "Python 3",
   "language": "python",
   "name": "python3"
  },
  "language_info": {
   "codemirror_mode": {
    "name": "ipython",
    "version": 3
   },
   "file_extension": ".py",
   "mimetype": "text/x-python",
   "name": "python",
   "nbconvert_exporter": "python",
   "pygments_lexer": "ipython3",
   "version": "3.11.9"
  }
 },
 "nbformat": 4,
 "nbformat_minor": 2
}
