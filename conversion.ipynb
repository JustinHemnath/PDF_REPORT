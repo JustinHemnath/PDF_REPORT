{
 "cells": [
  {
   "cell_type": "code",
   "execution_count": 4,
   "metadata": {},
   "outputs": [],
   "source": [
    "import json \n",
    "import pandas as pd\n",
    "\n",
    "\n",
    "with open(\"ac_lb_ward_languagewise.json\", \"r\", encoding=\"utf-8\") as f:\n",
    "    res = json.load(f)\n",
    "    ac_lb_ward_languagewise = res[\"en\"]\n",
    "\n",
    "with open(\"ac_lb_ward_mapping_without_joined_ward_numbers.json\", \"r\", encoding=\"utf-8\") as f:\n",
    "    res = json.load(f)\n",
    "    mapped_res = res[\"en\"]\n",
    "\n",
    "\n"
   ]
  },
  {
   "cell_type": "code",
   "execution_count": 5,
   "metadata": {},
   "outputs": [],
   "source": [
    "new_res = {}\n",
    "\n",
    "for booth in mapped_res:\n",
    "    boothwise_language_data = ac_lb_ward_languagewise[booth]\n",
    "    new_res[booth] = {}\n",
    "\n",
    "    new_lb_wise_dict = {}\n",
    "\n",
    "    for lb in mapped_res[booth]:\n",
    "        lb_en_name = boothwise_language_data[lb]\n",
    "        lb_data = mapped_res[booth][lb]\n",
    "\n",
    "        new_lb_wise_dict[lb_en_name] = lb_data\n",
    "\n",
    "    new_res[booth] = new_lb_wise_dict\n",
    "\n",
    "\n",
    "\n",
    "\n",
    "with open(\"new_res.json\", \"w\", encoding=\"utf-8\") as f:\n",
    "    f.write(json.dumps(new_res, ensure_ascii=False))"
   ]
  }
 ],
 "metadata": {
  "kernelspec": {
   "display_name": "Python 3",
   "language": "python",
   "name": "python3"
  },
  "language_info": {
   "codemirror_mode": {
    "name": "ipython",
    "version": 3
   },
   "file_extension": ".py",
   "mimetype": "text/x-python",
   "name": "python",
   "nbconvert_exporter": "python",
   "pygments_lexer": "ipython3",
   "version": "3.11.9"
  }
 },
 "nbformat": 4,
 "nbformat_minor": 2
}
