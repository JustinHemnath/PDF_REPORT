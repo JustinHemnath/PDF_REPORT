{
 "cells": [
  {
   "cell_type": "code",
   "execution_count": 30,
   "metadata": {},
   "outputs": [
    {
     "data": {
      "text/plain": [
       "'STATUS_GAVANAM_THEVAI'"
      ]
     },
     "execution_count": 30,
     "metadata": {},
     "output_type": "execute_result"
    }
   ],
   "source": [
    "\n",
    "class WIN_STATUS:\n",
    "    WIN = \"STATUS_WIN\"\n",
    "    LOSS = \"STATUS_LOSS\"\n",
    "    GAVANAM_THEVAI = \"STATUS_GAVANAM_THEVAI\"\n",
    "    ATHIGA_GAVANAM_THEVAI = \"STATUS_ATHIGA_GAVANAM_THEVAI\"\n",
    "\n",
    "def get_status(trend) -> str:\n",
    "    status = None\n",
    "    NUM_OF_YEARS = len(trend)\n",
    "\n",
    "    loss_count = 0\n",
    "\n",
    "    for i in trend:\n",
    "        if i == \"L\":\n",
    "            loss_count += 1\n",
    "\n",
    "    if NUM_OF_YEARS == 2:\n",
    "    # if years selected is 2\n",
    "        if loss_count == 0:\n",
    "            status = WIN_STATUS.WIN\n",
    "        elif loss_count == 1:\n",
    "            status = WIN_STATUS.GAVANAM_THEVAI\n",
    "        else:\n",
    "            status = WIN_STATUS.LOSS\n",
    "    else:\n",
    "        # if years selected are 3 or 4\n",
    "        if loss_count == 0:\n",
    "            status = WIN_STATUS.WIN\n",
    "        elif loss_count == 1:\n",
    "            status = WIN_STATUS.GAVANAM_THEVAI\n",
    "        elif loss_count > 1 and loss_count < NUM_OF_YEARS:\n",
    "            status = WIN_STATUS.ATHIGA_GAVANAM_THEVAI\n",
    "        else:\n",
    "            status = WIN_STATUS.LOSS\n",
    "\n",
    "    return status\n",
    "\n",
    "trend = \"LW\"\n",
    "\n",
    "get_status(trend)"
   ]
  }
 ],
 "metadata": {
  "kernelspec": {
   "display_name": "Python 3",
   "language": "python",
   "name": "python3"
  },
  "language_info": {
   "codemirror_mode": {
    "name": "ipython",
    "version": 3
   },
   "file_extension": ".py",
   "mimetype": "text/x-python",
   "name": "python",
   "nbconvert_exporter": "python",
   "pygments_lexer": "ipython3",
   "version": "3.11.9"
  }
 },
 "nbformat": 4,
 "nbformat_minor": 2
}
